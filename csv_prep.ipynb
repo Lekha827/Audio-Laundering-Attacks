{
 "cells": [
  {
   "cell_type": "code",
   "execution_count": 1,
   "metadata": {},
   "outputs": [
    {
     "name": "stdout",
     "output_type": "stream",
     "text": [
      "Filtered DataFrame:\n",
      "Empty DataFrame\n",
      "Columns: []\n",
      "Index: []\n"
     ]
    }
   ],
   "source": [
    "import os\n",
    "import pandas as pd\n",
    "\n",
    "def get_wav_files_with_details(base_directory):\n",
    "    data = []\n",
    "\n",
    "    # Loop through all folders in the base directory\n",
    "    for root, dirs, files in os.walk(base_directory):\n",
    "        folder_name = os.path.basename(root)\n",
    "\n",
    "        # Check if the folder name contains \"cafe\" or \"white\"\n",
    "        if \"cafe\" in folder_name.lower() or \"white\" in folder_name.lower():\n",
    "            print(folder_name)\n",
    "            for file in files:\n",
    "                # Check if the file is a .wav file\n",
    "                if file.endswith(\".wav\"):\n",
    "                    # Extract parts of the file name\n",
    "                    parts = file.split('_')\n",
    "                    audioname = '_'.join(parts[:3])  # Join the first three parts for audioname\n",
    "                    attack_type = '_'.join(parts[3:]).replace('.wav', '')  # Join the remaining parts for attack_type\n",
    "                    \n",
    "                    # Include only files where attack_type contains \"white\" or \"cafe\"\n",
    "                    if \"white\" in attack_type.lower() or \"cafe\" in attack_type.lower():\n",
    "                        # Add to data\n",
    "                        data.append({'audioname': audioname, 'attack_type': attack_type})\n",
    "    \n",
    "    # Create a DataFrame\n",
    "    df = pd.DataFrame(data)\n",
    "    return df\n",
    "\n",
    "# Example usage\n",
    "base_directory = \"/data/ASV19/flac\"  # Change this to your base directory path\n",
    "wav_files_df = get_wav_files_with_details(base_directory)\n",
    "\n",
    "# Print the DataFrame\n",
    "print(\"Filtered DataFrame:\")\n",
    "print(wav_files_df)\n",
    "\n",
    "# Optionally save to a CSV file\n",
    "wav_files_df.to_csv(\"/data/ASV19/filtered_wav_files.csv\", index=False)\n"
   ]
  },
  {
   "cell_type": "code",
   "execution_count": 5,
   "metadata": {},
   "outputs": [],
   "source": [
    "def get_files(directory):\n",
    "    flac_files = []\n",
    "    \n",
    "    # Walk through the directory\n",
    "    for root, _, files in os.walk(directory):\n",
    "        for file in files:\n",
    "            if file.endswith('.flac') or file.endswith('.wav') or file.endswith('.mp3'):\n",
    "                flac_files.append( file)\n",
    "    \n",
    "    return flac_files"
   ]
  },
  {
   "cell_type": "code",
   "execution_count": 3,
   "metadata": {},
   "outputs": [
    {
     "ename": "NameError",
     "evalue": "name 'get_files' is not defined",
     "output_type": "error",
     "traceback": [
      "\u001b[0;31m---------------------------------------------------------------------------\u001b[0m",
      "\u001b[0;31mNameError\u001b[0m                                 Traceback (most recent call last)",
      "Cell \u001b[0;32mIn[3], line 1\u001b[0m\n\u001b[0;32m----> 1\u001b[0m \u001b[43mget_files\u001b[49m(\u001b[38;5;124m\"\u001b[39m\u001b[38;5;124m/data/ASV19/flac\u001b[39m\u001b[38;5;124m\"\u001b[39m)\n",
      "\u001b[0;31mNameError\u001b[0m: name 'get_files' is not defined"
     ]
    }
   ],
   "source": [
    "get_files(\"/data/ASV19/flac\")"
   ]
  },
  {
   "cell_type": "code",
   "execution_count": 20,
   "metadata": {},
   "outputs": [
    {
     "name": "stdout",
     "output_type": "stream",
     "text": [
      "Filtered DataFrame:\n",
      "           audioname                 adapted attack_type\n",
      "0       LA_T_2064874   LA_T_2064874_white_20    white_20\n",
      "1       LA_T_2055383   LA_T_2055383_babble_0    babble_0\n",
      "2       LA_T_1490564   LA_T_1490564_volvo_20    volvo_20\n",
      "3       LA_T_2239790    LA_T_2239790_cafe_20     cafe_20\n",
      "4       LA_T_1511191    LA_T_1511191_volvo_0     volvo_0\n",
      "...              ...                     ...         ...\n",
      "126890  LA_T_9993186   LA_T_9993186_street_0    street_0\n",
      "126891  LA_T_9993979  LA_T_9993979_street_20   street_20\n",
      "126892  LA_T_9994240  LA_T_9994240_street_20   street_20\n",
      "126893  LA_T_9994911  LA_T_9994911_street_20   street_20\n",
      "126894  LA_T_9995068  LA_T_9995068_street_20   street_20\n",
      "\n",
      "[126895 rows x 3 columns]\n"
     ]
    }
   ],
   "source": [
    "import pandas as pd\n",
    "\n",
    "def process_file_names(file_names):\n",
    "    data = []\n",
    "\n",
    "    # Loop through each file name\n",
    "    for file in file_names:\n",
    "        # Remove the file extension (.wav)\n",
    "        file = file.replace(\".wav\", \"\")\n",
    "        \n",
    "        # Split the file name by '_'\n",
    "        parts = file.split('_')\n",
    "        \n",
    "        # Extract the audioname (first three parts)\n",
    "        audioname = '_'.join(parts[:3])\n",
    "        \n",
    "        # Extract the attack_type (remaining parts)\n",
    "        attack_type = '_'.join(parts[3:])\n",
    "        \n",
    "        # Filter only \"white\" or \"cafe\" in attack_type\n",
    "        if \"white\" in attack_type.lower() or \"cafe\" in attack_type.lower()or \"volvo\" in attack_type.lower() or \"babble\" in attack_type.lower() or \"street\" in attack_type.lower() :\n",
    "            data.append({\"audioname\":audioname,'adapted': file.split(\".\")[0], 'attack_type': attack_type})\n",
    "\n",
    "    # Create a DataFrame\n",
    "    df = pd.DataFrame(data)\n",
    "    return df\n",
    "\n",
    "# Example file names\n",
    "file_names =get_files(\"/data/ASV19/flac\")\n",
    "\n",
    "# Process the file names\n",
    "result_df = process_file_names(file_names)\n",
    "\n",
    "# Print the DataFrame\n",
    "print(\"Filtered DataFrame:\")\n",
    "print(result_df)\n"
   ]
  },
  {
   "cell_type": "code",
   "execution_count": 21,
   "metadata": {},
   "outputs": [],
   "source": [
    "prot = pd.read_csv(\"/data/Data/AsvSpoofData_2019/train/LA/ASVspoof2019_LA_cm_protocols/ASVspoof2019.LA.cm.train.trn.txt\",sep=\" \")\n",
    "prot.columns = [\"tag\",\"audioname\",\"gender\",\"attack\",\"spoof\"]"
   ]
  },
  {
   "cell_type": "code",
   "execution_count": 22,
   "metadata": {},
   "outputs": [],
   "source": [
    "prot_na = prot.merge(result_df,how = \"inner\",on = \"audioname\")"
   ]
  },
  {
   "cell_type": "code",
   "execution_count": 23,
   "metadata": {},
   "outputs": [],
   "source": [
    "prot_na[\"na\"] = \"Noise_Addition\""
   ]
  },
  {
   "cell_type": "code",
   "execution_count": 26,
   "metadata": {},
   "outputs": [],
   "source": [
    "prot_na[[\"tag\",\"adapted\",\"gender\",\"attack\",\"spoof\",\"na\",\"attack_type\"]].to_csv(f\"/data/ASV19/na_ASV19.txt\",index = False,sep = \" \",header= None)"
   ]
  },
  {
   "cell_type": "code",
   "execution_count": 25,
   "metadata": {},
   "outputs": [
    {
     "name": "stderr",
     "output_type": "stream",
     "text": [
      "<>:32: SyntaxWarning: invalid escape sequence '\\s'\n",
      "<>:32: SyntaxWarning: invalid escape sequence '\\s'\n",
      "/tmp/ipykernel_3693416/343667983.py:32: SyntaxWarning: invalid escape sequence '\\s'\n",
      "  df = pd.read_csv(file, sep='\\s+', engine='python')\n"
     ]
    },
    {
     "name": "stdout",
     "output_type": "stream",
     "text": [
      "Combined 5 files into /data/ASV19/combined.txt.\n"
     ]
    }
   ],
   "source": [
    "import os\n",
    "import glob\n",
    "import pandas as pd\n",
    "\n",
    "def combine_space_separated_txt_files():\n",
    "    \"\"\"\n",
    "    Prompts the user for an input directory and reads all .txt files (space-separated)\n",
    "    from that directory, concatenates them into a single DataFrame, and saves\n",
    "    the combined data to 'combined.txt' in the same directory.\n",
    "    \"\"\"\n",
    "    \n",
    "    # Prompt user for the input directory\n",
    "    input_dir = input(\"Enter the input directory path: \").strip()\n",
    "    \n",
    "    # Validate the directory\n",
    "    if not os.path.isdir(input_dir):\n",
    "        print(f\"ERROR: '{input_dir}' is not a valid directory.\")\n",
    "        return\n",
    "    \n",
    "    # Construct the path pattern for all .txt files\n",
    "    txt_files_pattern = os.path.join(input_dir, \"*.txt\")\n",
    "    txt_files = glob.glob(txt_files_pattern)\n",
    "    \n",
    "    if not txt_files:\n",
    "        print(f\"No .txt files found in {input_dir}\")\n",
    "        return\n",
    "    \n",
    "    df_list = []\n",
    "\n",
    "    # Read each text file as a space-separated table using pandas\n",
    "    for file in txt_files:\n",
    "        df = pd.read_csv(file, sep='\\s+', engine='python')\n",
    "        df_list.append(df)\n",
    "\n",
    "    # Concatenate all DataFrames into a single DataFrame\n",
    "    combined_df = pd.concat(df_list, ignore_index=True)\n",
    "\n",
    "    # Define the output file path\n",
    "    output_file = os.path.join(input_dir, \"combined.txt\")\n",
    "\n",
    "    # Save the combined data to a new text file, space-separated\n",
    "    combined_df.to_csv(output_file, sep=' ', index=False)\n",
    "    print(f\"Combined {len(txt_files)} files into {output_file}.\")\n",
    "\n",
    "if __name__ == \"__main__\":\n",
    "    combine_space_separated_txt_files()\n"
   ]
  },
  {
   "cell_type": "code",
   "execution_count": 1,
   "metadata": {},
   "outputs": [],
   "source": [
    "import os\n",
    "from pydub import AudioSegment\n",
    "\n",
    "def convert_wav_to_flac(folder_path):\n",
    "    \"\"\"\n",
    "    Converts all .wav files in the specified folder to .flac files.\n",
    "    \n",
    "    :param folder_path: Path to the folder containing .wav files.\n",
    "    \"\"\"\n",
    "    \n",
    "    # Ensure folder_path is a valid directory\n",
    "    if not os.path.isdir(folder_path):\n",
    "        print(f\"The folder path '{folder_path}' is invalid.\")\n",
    "        return\n",
    "    f_path = \"/data/ASV19/flac\"\n",
    "    for filename in os.listdir(folder_path):\n",
    "        \n",
    "        # Check if the file has a .wav extension\n",
    "        if filename.lower().endswith(\".wav\"):\n",
    "            wav_path = os.path.join(folder_path, filename)\n",
    "\n",
    "            # Construct the output .flac file path\n",
    "            flac_filename = os.path.splitext(filename)[0] + \".flac\"\n",
    "            flac_path = os.path.join(f_path, flac_filename)\n",
    "            if not os.path.exists(flac_path):\n",
    "                # Load the .wav file\n",
    "                audio = AudioSegment.from_wav(wav_path)\n",
    "\n",
    "                # Export as .flac\n",
    "                audio.export(flac_path, format=\"flac\")\n",
    "                print(f\"Converted '{filename}' to '{flac_filename}'\")\n",
    "\n",
    "if __name__ == \"__main__\":\n",
    "    # Replace with the path to your folder containing the .wav files\n",
    "    folder_path = \"/data/ASV19/wav\"\n",
    "    convert_wav_to_flac(folder_path)\n"
   ]
  }
 ],
 "metadata": {
  "kernelspec": {
   "display_name": "ssconda",
   "language": "python",
   "name": "python3"
  },
  "language_info": {
   "codemirror_mode": {
    "name": "ipython",
    "version": 3
   },
   "file_extension": ".py",
   "mimetype": "text/x-python",
   "name": "python",
   "nbconvert_exporter": "python",
   "pygments_lexer": "ipython3",
   "version": "3.12.2"
  }
 },
 "nbformat": 4,
 "nbformat_minor": 2
}
